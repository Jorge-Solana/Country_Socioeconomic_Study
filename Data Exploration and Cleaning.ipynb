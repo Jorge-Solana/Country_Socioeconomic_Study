{
 "cells": [
  {
   "cell_type": "markdown",
   "id": "e1d63653",
   "metadata": {},
   "source": [
    "# The strat of the new project"
   ]
  },
  {
   "cell_type": "markdown",
   "id": "3b2aaece",
   "metadata": {},
   "source": [
    "### Checking the data and cleaning if necesary"
   ]
  },
  {
   "cell_type": "code",
   "execution_count": 1,
   "id": "e33a8a98",
   "metadata": {},
   "outputs": [],
   "source": [
    "import pandas as pd\n",
    "import numpy as np"
   ]
  },
  {
   "cell_type": "code",
   "execution_count": 12,
   "id": "01f2a5d4",
   "metadata": {},
   "outputs": [],
   "source": [
    "country_status = pd.read_csv('GLOB.SES.csv', encoding= 'unicode_escape') \n",
    "# I have to set encoding = unicode_escape in order to avoid and error that pops up"
   ]
  },
  {
   "cell_type": "code",
   "execution_count": 13,
   "id": "e049758d",
   "metadata": {},
   "outputs": [
    {
     "data": {
      "text/html": [
       "<div>\n",
       "<style scoped>\n",
       "    .dataframe tbody tr th:only-of-type {\n",
       "        vertical-align: middle;\n",
       "    }\n",
       "\n",
       "    .dataframe tbody tr th {\n",
       "        vertical-align: top;\n",
       "    }\n",
       "\n",
       "    .dataframe thead th {\n",
       "        text-align: right;\n",
       "    }\n",
       "</style>\n",
       "<table border=\"1\" class=\"dataframe\">\n",
       "  <thead>\n",
       "    <tr style=\"text-align: right;\">\n",
       "      <th></th>\n",
       "      <th>unid</th>\n",
       "      <th>wbid</th>\n",
       "      <th>country</th>\n",
       "      <th>year</th>\n",
       "      <th>SES</th>\n",
       "      <th>gdppc</th>\n",
       "      <th>yrseduc</th>\n",
       "      <th>popshare</th>\n",
       "    </tr>\n",
       "  </thead>\n",
       "  <tbody>\n",
       "    <tr>\n",
       "      <th>0</th>\n",
       "      <td>4</td>\n",
       "      <td>AFG</td>\n",
       "      <td>Afghanistan</td>\n",
       "      <td>1970</td>\n",
       "      <td>3.474212</td>\n",
       "      <td>709.00000</td>\n",
       "      <td>NaN</td>\n",
       "      <td>0.003097</td>\n",
       "    </tr>\n",
       "    <tr>\n",
       "      <th>1</th>\n",
       "      <td>4</td>\n",
       "      <td>AFG</td>\n",
       "      <td>Afghanistan</td>\n",
       "      <td>1920</td>\n",
       "      <td>26.968016</td>\n",
       "      <td>731.75677</td>\n",
       "      <td>NaN</td>\n",
       "      <td>0.003245</td>\n",
       "    </tr>\n",
       "    <tr>\n",
       "      <th>2</th>\n",
       "      <td>4</td>\n",
       "      <td>AFG</td>\n",
       "      <td>Afghanistan</td>\n",
       "      <td>1990</td>\n",
       "      <td>1.269530</td>\n",
       "      <td>604.00000</td>\n",
       "      <td>NaN</td>\n",
       "      <td>0.002347</td>\n",
       "    </tr>\n",
       "    <tr>\n",
       "      <th>3</th>\n",
       "      <td>4</td>\n",
       "      <td>AFG</td>\n",
       "      <td>Afghanistan</td>\n",
       "      <td>1960</td>\n",
       "      <td>15.763076</td>\n",
       "      <td>739.00000</td>\n",
       "      <td>NaN</td>\n",
       "      <td>0.003039</td>\n",
       "    </tr>\n",
       "    <tr>\n",
       "      <th>4</th>\n",
       "      <td>4</td>\n",
       "      <td>AFG</td>\n",
       "      <td>Afghanistan</td>\n",
       "      <td>2000</td>\n",
       "      <td>2.061114</td>\n",
       "      <td>565.00000</td>\n",
       "      <td>NaN</td>\n",
       "      <td>0.003309</td>\n",
       "    </tr>\n",
       "  </tbody>\n",
       "</table>\n",
       "</div>"
      ],
      "text/plain": [
       "   unid wbid      country  year        SES      gdppc  yrseduc  popshare\n",
       "0     4  AFG  Afghanistan  1970   3.474212  709.00000      NaN  0.003097\n",
       "1     4  AFG  Afghanistan  1920  26.968016  731.75677      NaN  0.003245\n",
       "2     4  AFG  Afghanistan  1990   1.269530  604.00000      NaN  0.002347\n",
       "3     4  AFG  Afghanistan  1960  15.763076  739.00000      NaN  0.003039\n",
       "4     4  AFG  Afghanistan  2000   2.061114  565.00000      NaN  0.003309"
      ]
     },
     "execution_count": 13,
     "metadata": {},
     "output_type": "execute_result"
    }
   ],
   "source": [
    "country_status.head()"
   ]
  },
  {
   "cell_type": "markdown",
   "id": "60482669",
   "metadata": {},
   "source": [
    "#### What does each column mean?"
   ]
  },
  {
   "cell_type": "markdown",
   "id": "e76adc71",
   "metadata": {},
   "source": [
    "- UNID: ISO numeric country code (used by the United Nations)\n",
    "\n",
    "- WBID: ISO alpha country code (used by the World Bank)\n",
    "\n",
    "- SES: Socioeconomic status score (percentile) based on GDP per capita and\n",
    "educational attainment (n=174)\n",
    "\n",
    "- country: Short country name\n",
    "\n",
    "- year: Survey year\n",
    "\n",
    "- SES: Socioeconomic status score (1-99) for each of 174 countries\n",
    "\n",
    "- gdppc: GDP per capita: Single time-series (imputed)\n",
    "\n",
    "- yrseduc: Completed years of education in the adult (15+) population\n",
    "\n",
    "- popshare: Total population shares"
   ]
  },
  {
   "cell_type": "code",
   "execution_count": 21,
   "id": "d1638db4",
   "metadata": {},
   "outputs": [
    {
     "data": {
      "text/plain": [
       "(2086, 8)"
      ]
     },
     "execution_count": 21,
     "metadata": {},
     "output_type": "execute_result"
    }
   ],
   "source": [
    "country_status.shape"
   ]
  },
  {
   "cell_type": "code",
   "execution_count": 16,
   "id": "1b73515b",
   "metadata": {},
   "outputs": [
    {
     "data": {
      "text/plain": [
       "unid          int64\n",
       "wbid         object\n",
       "country      object\n",
       "year          int64\n",
       "SES         float64\n",
       "gdppc       float64\n",
       "yrseduc     float64\n",
       "popshare    float64\n",
       "dtype: object"
      ]
     },
     "execution_count": 16,
     "metadata": {},
     "output_type": "execute_result"
    }
   ],
   "source": [
    "country_status.dtypes"
   ]
  },
  {
   "cell_type": "code",
   "execution_count": 22,
   "id": "4526518d",
   "metadata": {},
   "outputs": [
    {
     "data": {
      "text/plain": [
       "unid           0\n",
       "wbid           0\n",
       "country        0\n",
       "year           0\n",
       "SES            0\n",
       "gdppc          0\n",
       "yrseduc     1050\n",
       "popshare       0\n",
       "dtype: int64"
      ]
     },
     "execution_count": 22,
     "metadata": {},
     "output_type": "execute_result"
    }
   ],
   "source": [
    "country_status.isna().sum()\n",
    "# we have 50% of nulls in yrseduc, this is a problem"
   ]
  },
  {
   "cell_type": "markdown",
   "id": "3c2a7f94",
   "metadata": {},
   "source": [
    "This column reflects the years of education a person has completed after 15 years old (in average of the country and year)"
   ]
  },
  {
   "cell_type": "code",
   "execution_count": 19,
   "id": "a04ff108",
   "metadata": {},
   "outputs": [
    {
     "data": {
      "text/plain": [
       "0      NaN\n",
       "1      NaN\n",
       "2      NaN\n",
       "3      NaN\n",
       "4      NaN\n",
       "        ..\n",
       "2081   NaN\n",
       "2082   NaN\n",
       "2083   NaN\n",
       "2084   NaN\n",
       "2085   NaN\n",
       "Name: yrseduc, Length: 2086, dtype: float64"
      ]
     },
     "execution_count": 19,
     "metadata": {},
     "output_type": "execute_result"
    }
   ],
   "source": [
    "country_status['yrseduc']"
   ]
  },
  {
   "cell_type": "markdown",
   "id": "20cefb36",
   "metadata": {},
   "source": [
    "How effective and real is if we fill this NaN's with the mean values of the column?"
   ]
  },
  {
   "cell_type": "code",
   "execution_count": 25,
   "id": "432f0503",
   "metadata": {},
   "outputs": [],
   "source": [
    "country_status['yrseduc'].fillna(country_status['yrseduc'].mean(), inplace=True)"
   ]
  },
  {
   "cell_type": "code",
   "execution_count": 28,
   "id": "1969a606",
   "metadata": {},
   "outputs": [
    {
     "data": {
      "text/plain": [
       "3.778166    1050\n",
       "0.070000      11\n",
       "0.130000      10\n",
       "0.040000       8\n",
       "0.120000       6\n",
       "            ... \n",
       "6.870000       1\n",
       "6.490000       1\n",
       "7.296700       1\n",
       "8.213800       1\n",
       "2.256400       1\n",
       "Name: yrseduc, Length: 783, dtype: int64"
      ]
     },
     "execution_count": 28,
     "metadata": {},
     "output_type": "execute_result"
    }
   ],
   "source": [
    "country_status['yrseduc'].value_counts()"
   ]
  },
  {
   "cell_type": "markdown",
   "id": "a50939b0",
   "metadata": {},
   "source": [
    "Its a poor metric actually, becasue we have quite variance within this column, so we are going to ignire it a little bit in the study and after that we will try to do something with it"
   ]
  },
  {
   "cell_type": "markdown",
   "id": "51c5629d",
   "metadata": {},
   "source": [
    "### The data is cleaner now"
   ]
  },
  {
   "cell_type": "code",
   "execution_count": null,
   "id": "02d1add1",
   "metadata": {},
   "outputs": [],
   "source": []
  }
 ],
 "metadata": {
  "kernelspec": {
   "display_name": "Python 3",
   "language": "python",
   "name": "python3"
  },
  "language_info": {
   "codemirror_mode": {
    "name": "ipython",
    "version": 3
   },
   "file_extension": ".py",
   "mimetype": "text/x-python",
   "name": "python",
   "nbconvert_exporter": "python",
   "pygments_lexer": "ipython3",
   "version": "3.8.8"
  }
 },
 "nbformat": 4,
 "nbformat_minor": 5
}
